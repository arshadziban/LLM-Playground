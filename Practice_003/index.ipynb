{
 "cells": [
  {
   "cell_type": "code",
   "execution_count": 84,
   "id": "47574c49",
   "metadata": {},
   "outputs": [
    {
     "name": "stdout",
     "output_type": "stream",
     "text": [
      "Status Code: 200\n",
      "Data saved to bangladesh_wikipedia.txt\n"
     ]
    }
   ],
   "source": [
    "import requests\n",
    "from bs4 import BeautifulSoup\n",
    "\n",
    "# Target Wikipedia URL\n",
    "url = \"https://en.wikipedia.org/wiki/Bangladesh\"\n",
    "\n",
    "# Add headers to avoid being blocked\n",
    "headers = {\"User-Agent\": \"Mozilla/5.0\"}\n",
    "\n",
    "# Fetch the page\n",
    "response = requests.get(url, headers=headers)\n",
    "print(\"Status Code:\", response.status_code)\n",
    "response.raise_for_status()\n",
    "\n",
    "# Parse HTML\n",
    "soup = BeautifulSoup(response.text, \"html.parser\")\n",
    "\n",
    "# Extract all paragraphs\n",
    "paragraphs = soup.find_all(\"p\")\n",
    "\n",
    "# Join into one string\n",
    "text = \" \".join(p.get_text(strip=True) for p in paragraphs)\n",
    "\n",
    "# Save to file\n",
    "with open(\"bangladesh_wikipedia.txt\", \"w\", encoding=\"utf-8\") as f:\n",
    "    f.write(text)\n",
    "\n",
    "print(\"Data saved to bangladesh_wikipedia.txt\")\n"
   ]
  },
  {
   "cell_type": "code",
   "execution_count": 85,
   "id": "d8dc3a44",
   "metadata": {},
   "outputs": [
    {
     "name": "stdout",
     "output_type": "stream",
     "text": [
      "Cleaned text saved to bangladesh_wikipedia_cleaned.txt\n"
     ]
    }
   ],
   "source": [
    "import re\n",
    "\n",
    "with open(\"bangladesh_wikipedia.txt\", \"r\", encoding=\"utf-8\") as f:\n",
    "    raw_text = f.read()\n",
    "\n",
    "def clean_text(text):\n",
    "    text = re.sub(r'\\[\\d+\\]', '', text)  # remove [1], [23], etc.\n",
    "    text = re.sub(r'\\s+', ' ', text)     # normalize whitespace\n",
    "    text = text.replace('\\xa0', ' ').strip()\n",
    "    return text\n",
    "\n",
    "cleaned_text = clean_text(raw_text)\n",
    "\n",
    "with open(\"bangladesh_wikipedia_cleaned.txt\", \"w\", encoding=\"utf-8\") as f:\n",
    "    f.write(cleaned_text)\n",
    "\n",
    "print(\"Cleaned text saved to bangladesh_wikipedia_cleaned.txt\")\n"
   ]
  },
  {
   "cell_type": "code",
   "execution_count": 86,
   "id": "a4b0bf48",
   "metadata": {},
   "outputs": [
    {
     "name": "stdout",
     "output_type": "stream",
     "text": [
      "Created 19 chunks\n"
     ]
    }
   ],
   "source": [
    "def chunk_text(text, chunk_size=500, overlap=50):\n",
    "    words = text.split()\n",
    "    chunks = []\n",
    "    for i in range(0, len(words), chunk_size - overlap):\n",
    "        chunk = \" \".join(words[i:i+chunk_size])\n",
    "        chunks.append(chunk)\n",
    "    return chunks\n",
    "\n",
    "chunks = chunk_text(cleaned_text)\n",
    "print(f\"Created {len(chunks)} chunks\")\n"
   ]
  },
  {
   "cell_type": "code",
   "execution_count": 87,
   "id": "15f2d645",
   "metadata": {},
   "outputs": [],
   "source": [
    "import uuid\n",
    "from pinecone import Pinecone"
   ]
  },
  {
   "cell_type": "code",
   "execution_count": null,
   "id": "14efd193",
   "metadata": {},
   "outputs": [
    {
     "name": "stdout",
     "output_type": "stream",
     "text": [
      "Connected to index: bangladesh-wiki\n"
     ]
    }
   ],
   "source": [
    "\n",
    "# Connect to Pinecone\n",
    "pc = Pinecone(api_key=\"\")\n",
    "\n",
    "# Use the index you already created\n",
    "index = pc.Index(\"bangladesh-wiki\")\n",
    "print(\"Connected to index: bangladesh-wiki\")"
   ]
  },
  {
   "cell_type": "code",
   "execution_count": 89,
   "id": "38fc7a61",
   "metadata": {},
   "outputs": [
    {
     "name": "stdout",
     "output_type": "stream",
     "text": [
      "Created 19 embeddings\n"
     ]
    }
   ],
   "source": [
    "# Generate embeddings for your chunks\n",
    "embed_model = \"llama-text-embed-v2\"\n",
    "\n",
    "res = pc.inference.embed(\n",
    "    model=embed_model,\n",
    "    inputs=chunks,   # list of text chunks\n",
    "    parameters={\"input_type\": \"passage\"}  # passage type for document text\n",
    ")\n",
    "\n",
    "embeddings = [r.values for r in res.data]\n",
    "print(f\"Created {len(embeddings)} embeddings\")"
   ]
  },
  {
   "cell_type": "code",
   "execution_count": 91,
   "id": "e7a7b187",
   "metadata": {},
   "outputs": [],
   "source": [
    "vectors = [\n",
    "    (\n",
    "        str(uuid.uuid4()),  # unique ID\n",
    "        emb,                # embedding vector\n",
    "        {\n",
    "            \"text\": chunk,                     # original text\n",
    "            \"source\": \"Wikipedia - Bangladesh\",# where it came from\n",
    "            \"chunk_id\": i+1,                   # chunk number\n",
    "            \"length\": len(chunk)               # character length\n",
    "        }\n",
    "    )\n",
    "    for i, (emb, chunk) in enumerate(zip(embeddings, chunks))\n",
    "]"
   ]
  },
  {
   "cell_type": "code",
   "execution_count": 92,
   "id": "ac02c9f5",
   "metadata": {},
   "outputs": [
    {
     "name": "stdout",
     "output_type": "stream",
     "text": [
      "Uploaded 19 vectors with embeddings + metadata into 'bangladesh-wiki'\n"
     ]
    }
   ],
   "source": [
    "# Upload to Pinecone\n",
    "index.upsert(vectors=vectors)\n",
    "print(f\"Uploaded {len(vectors)} vectors with embeddings + metadata into 'bangladesh-wiki'\")"
   ]
  },
  {
   "cell_type": "code",
   "execution_count": 93,
   "id": "6f81aa74",
   "metadata": {},
   "outputs": [
    {
     "name": "stdout",
     "output_type": "stream",
     "text": [
      "\n",
      "🔎 Search Results:\n",
      "Score: 0.641\n",
      "Text: Bangladesh,[a]officially thePeople's Republic of Bangladesh,[b]is a country inSouth Asia. It is theeighth-most populous countryin the world and among themost densely populatedwith a population of over 171 million within an area of 148,460 square kilometres (57,320 sq mi). Bangladesh shares land borders withIndiato the north, west, and east, andMyanmarto the southeast. It has a coastline along theBay of Bengalto its south and is separated fromBhutanandNepalby theSiliguri Corridor, and from China by theIndian stateofSikkimto its north.Dhaka, the capital andlargest city, is the nation's political, financial, and cultural centre.Chittagongis the second-largest city and the busiest port of the country. The territory of modern Bangladesh was a stronghold of manyBuddhistandHindu dynastiesin ancient history. Following theMuslim conquestin 1204, the region sawSultanateandMughalrule. During theMughalperiod, particularly under theBengal Subah, the region emerged as one of the most prosperous and commercially active parts of the empire, known for its thriving textile industry and agricultural productivity. TheBattle of Plasseyin 1757 marked the beginning of British colonial rule for the following two centuries. In the aftermath of thePartition of British Indiain 1947,East Bengalbecame the eastern and most populous wing of the newly formedDominion of Pakistanand was later renamed toEast Pakistan. Following over two decades of political repression andsystematic racismfrom theWest Pakistan-based government,East Pakistanexperienced acivil warin 1971; ultimately leading to awar for independence. TheMukti Bahini, withassistance from Indian forces, waged a successfularmed revolution; and at the expense ofa genocide, Bangladesh became asovereign nationon 16 December 1971. Post-Independence,Sheikh Mujibur Rahmanled the country until hisassassination in 1975. Presidency was later transferred toZiaur Rahman, who himself wasassassinatedin 1981. The 1980s was dominated by the dictatorship ofHussain Muhammad Ershad, who was overthrown in amass uprisingin 1990. Following the democratisation in 1991, the \"Battle of theBegums\" betweenKhaleda ZiaandSheikh Hasinadefined the country's politics for the next three decades. Hasina was overthrown in astudent–led mass uprisingin August 2024, and aninterim governmentled by Nobel laureateMuhammad Yunuswas formed. Bangladesh is aunitaryparliamentary republicbased on theWestminster system. It is amiddle powerwith thesecond-largest economyin South Asia. Bangladesh is home to thethird-largest Muslim populationin the world and thefifth-most spoken native language. It maintains thethird-largest militaryin South Asia and is the largest contributor to thepeacekeepingoperations of the United Nations. It consists ofeight divisions,64 districts, and495 sub-districts, and is home to thelargest mangrove forestin the world. However, Bangladesh has one of the largestrefugee populationsin the world and continues to face challenges such as endemiccorruption, lack ofhuman rights,political instability,overpopulation, and adverseeffects of climate change. It has twice chaired theClimate Vulnerable Forumand is a member ofBIMSTEC,SAARC,OICand theCommonwealth of Nations. The etymology ofBangladesh(\"Bengali country\") can be traced to the early 20th century, when Bengali patriotic songs, such asAaji Bangladesher HridoybyRabindranath TagoreandNamo Namo Namo Bangladesh MomobyKazi Nazrul Islam, used the term in 1905 and 1932 respectively.Starting in the 1950s, Bengali nationalists used the term in political rallies inEast Pakistan. The termBanglais a major name for both theBengalregion and theBengali language. The origins of the termBanglaare unclear, with theories pointing to aBronze Ageproto-Dravidiantribe,and the Iron AgeVanga Kingdom.The earliest known usage of the term is theNesari platein 805 AD. The termVangala Desais\n",
      "----\n",
      "Score: 0.568\n",
      "Text: then initiatedOperation Searchlighton 25 March 1971 in response.Mujib signed theProclamation of Independenceon 26 March 1971, leading to the nine-month-long bloodyliberation war, which led toa genocide,and the culmination of Bangladesh as a sovereign nation followingPakistani surrenderon 16 December 1971. TheConstitution of Bangladeshwas enacted on 4 November 1972.Following independence, the Mujib-led government engaged in large-scale corruption and mismanagement, leading to nationwide lawlessness and economic devastation. Efforts to establishone-party socialismand alarge famine in 1974led toMujib's assassinationin 1975 following a significant decline in his popularity.: 131The presidency was then transferred toZiaur Rahman, who re-established public order, industrialised agriculture, founded theBangladesh Nationalist Party(BNP) and initiated the creation of theSouth Asian Association for Regional Cooperation.FollowingRahman's assassinationin 1981, the ensuing decade was amilitary dictatorshipunderHussain Muhammad Ershadthat saw infrastructural development,devolutionreforms, privatisation of nationalised industries and the declaration of Islam as thestate religionin 1988. After the restoration ofparliamentary democracyin 1991, power alternated betweenKhaleda Ziaof the BNP andSheikh Hasinaof the Awami League, an era dubbed the \"Battle of theBegums\"—which defined Bangladesh's politics and history for next 34 years.: 130The return of the Awami League to power following alandslide victoryin the2008 general electionunderSheikh Hasina's leadership saw unprecedented economic progress alongsidedemocratic backsliding, increasing authoritarianism, endemiccorruption, and widespreadhuman rights abuses.Hasina won her second, third and fourth consecutive terms in the2014,2018and the2024 general elections—all of which were shams and neitherfree nor fair.Following astudent-led mass uprisingagainst the authoritarian government, Hasina wasforced to resign and fleeto India on 5 August 2024.Aninterim governmentwas formed on 8 August 2024, with Nobel laureateMuhammad Yunusas theChief Adviser. Since the 1980s, driven byfree marketpolicies andeconomic liberalisationmeasures, Bangladesh has achieved significant economic growth—emerging as one of thefastest-growing economies in the world, driven by its largetextile industry, which is the second-largest in the world.It has emerged as thesecond-largest economy in South Asia, surpassing the nominal GDP per capita of neighbouring India.Bangladesh has achieved remarkable feats in reducing itspoverty rate, which has gone down from 80% in 1971,to 44.2% in 1991,and all the way down to 18.7% in 2022.ItsHuman Development Indexgrowth during the 21st century was surpassed only by China.As part of thegreen transition, Bangladesh's industrial sector emerged as a leader in buildinggreen factories, with the country having the largest number of certified green factories in the world.It has also given shelter toover a million Rohingya refugeesfleeing theRohingya genocidesince 2017, which has strained its resources and highlighted its humanitarian commitments. Bangladesh is in South Asia on theBay of Bengal. It is surrounded almost entirely by neighbouring India, and shares a small border withMyanmarto its southeast, though it lies very close toNepal,Bhutan, and China. The country is divided into three regions. Most of the country is dominated by the fertileGanges Delta, the largest river delta in the world.The northwest and central parts of the country are formed by theMadhupurand theBarindplateaus. The northeast and southeast are home toevergreenhill ranges. The Ganges delta is formed by the confluence of the Ganges (local namePadmaorPôdda),Brahmaputra(JamunaorJomuna), andMeghnarivers and their tributaries. The Ganges unites with the Jamuna (main channel of the Brahmaputra) and later joins the Meghna, finally flowing into the\n",
      "----\n",
      "Score: 0.545\n",
      "Text: nationalists used the term in political rallies inEast Pakistan. The termBanglais a major name for both theBengalregion and theBengali language. The origins of the termBanglaare unclear, with theories pointing to aBronze Ageproto-Dravidiantribe,and the Iron AgeVanga Kingdom.The earliest known usage of the term is theNesari platein 805 AD. The termVangala Desais found in 11th-century South Indian records.The term gained official status during theSultanate of Bengalin the 14th century.Shamsuddin Ilyas Shahproclaimed himself as the first \"Shahof Bangala\" in 1342.The wordBangālbecame the most common name for the region during the Islamic period.16th-century historianAbu'l-Fazl ibn Mubarakmentions in hisAin-i-Akbarithat the addition of the suffix\"al\"came from the fact that the ancient rajahs of the land raised mounds of earth in lowlands at the foot of the hills which were called \"al\".This is also mentioned inGhulam Husain Salim'sRiyaz-us-Salatin. The Indo-Aryan suffixDeshis derived from the Sanskrit worddeśha, which means \"land\" or \"country\". Hence, the nameBangladeshmeans \"Land of Bengal\" or \"Country of Bengal\". The first great indigenous empire to cover the territory was theMauryan Empire(ca. 320–180 B.C.). Following its decline, the kingdom ofSamatataarose, which was a tributary state of theGupta Empire(ca. 319-ca. 540 A.D.).Harsha(606–47 A.D.) drew Samatata into its loosely administered political structure. BuddhistPala Dynastyruled the region from A.D. 750 to 1150. It was overthrown by the HinduSena dynasty, which ruled the territory until theMuslim conquestsled byMuhammad Bakhtiyar Khaljiof theGhurid dynastyin 1204. Bengal was then incorporated into theDelhi Sultanate(A.D. 1206–1526).In 1341, the independentBengal Sultanatewas established byFakhruddin Mubarak Shah.Amidst geographic expansion and economic prosperity, it was regarded by European and Chinese visitors as the \"richest country to trade with\".: 10TheMughal Empireconquered Bengal in 1576.By the 18th century, theBengal Subahemerged as the wealthiest province of the empire and was described as the \"Paradise of Countries\" and the \"breadbasket of India\".Its citizens enjoyed some of the beststandards of livingin the world, as the region was a major global exporter and producer of cotton textiles (muslinin particular), silk andshipbuilding.: 174Following the decline of the Mughal Empire in the early 1700s, the region became a semi-independent state under theNawabs of Bengal, founded byMurshid Quli Khanin 1717. In 1757, the state led bySiraj-ud-Daulahwas defeated by the BritishEast India Companyin theBattle of Plassey—which was key in establishing colonialBritish ruleover Bengal and the wider Indian subcontinent. Bengal played a crucial role in theIndustrial Revolutionat the expense of an extraordinarycapital flightand deindustrialisation following British colonial loot and the collapse of the Bengali textile industry.: 7–10The catastrophicGreat Bengal famine of 1770caused over ten million deaths,killing one-third of the total population of the Bengal Presidency,: 47and remains one of thedeadliest man-made faminesin history. In the aftermath ofdirect British rulefor nearly two centuries, the borders of modern Bangladesh were established with thepartition of Bengalbetween India and Pakistan by theRadcliffe Lineduring thepartition of Indiaon 15 August 1947, when the region becameEast Bengalas the eastern and most populous wing of the newly formedDominion of Pakistan—alongsideWest Pakistan.The western and eastern wings of the newly formed Pakistan were geographically separated by a distance of over 1,000 miles, which became the root cause of deepeconomic inequality.Khawaja\n",
      "----\n"
     ]
    }
   ],
   "source": [
    "query = \"Tell me about the history of Bangladesh.\"\n",
    "\n",
    "q_res = pc.inference.embed(\n",
    "    model=embed_model,\n",
    "    inputs=[query],\n",
    "    parameters={\"input_type\": \"query\"}\n",
    ")\n",
    "q_vec = q_res.data[0].values\n",
    "\n",
    "results = index.query(vector=q_vec, top_k=3, include_metadata=True)\n",
    "\n",
    "print(\"\\n🔎 Search Results:\")\n",
    "for match in results[\"matches\"]:\n",
    "    print(\"Score:\", round(match[\"score\"], 3))\n",
    "    print(\"Text:\", match[\"metadata\"][\"text\"])\n",
    "    print(\"----\")"
   ]
  },
  {
   "cell_type": "code",
   "execution_count": null,
   "id": "944b11dd",
   "metadata": {},
   "outputs": [],
   "source": []
  }
 ],
 "metadata": {
  "kernelspec": {
   "display_name": "env",
   "language": "python",
   "name": "python3"
  },
  "language_info": {
   "codemirror_mode": {
    "name": "ipython",
    "version": 3
   },
   "file_extension": ".py",
   "mimetype": "text/x-python",
   "name": "python",
   "nbconvert_exporter": "python",
   "pygments_lexer": "ipython3",
   "version": "3.11.0"
  }
 },
 "nbformat": 4,
 "nbformat_minor": 5
}
