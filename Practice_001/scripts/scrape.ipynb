{
 "cells": [
  {
   "cell_type": "code",
   "execution_count": null,
   "id": "8ae16bbf",
   "metadata": {},
   "outputs": [
    {
     "name": "stdout",
     "output_type": "stream",
     "text": [
      "Saved 101 paragraphs to data/raw/bangladesh_paragraphs.txt\n"
     ]
    }
   ],
   "source": [
    "import requests\n",
    "from bs4 import BeautifulSoup\n",
    "import os\n",
    "\n",
    "def scrape_bangladesh_paragraphs():\n",
    "    url = \"https://en.wikipedia.org/wiki/Bangladesh\"\n",
    "    response = requests.get(url)\n",
    "    if response.status_code != 200:\n",
    "        print(f\"Failed to retrieve page. Status code: {response.status_code}\")\n",
    "        return\n",
    "\n",
    "    soup = BeautifulSoup(response.text, 'html.parser')\n",
    "    paragraphs = soup.find_all('p')\n",
    "\n",
    "    # Extract text from paragraphs and filter out very short or empty ones\n",
    "    texts = [p.get_text().strip() for p in paragraphs if len(p.get_text().strip()) > 30]\n",
    "\n",
    "    # Create data folder if not exists\n",
    "    os.makedirs('data/raw', exist_ok=True)\n",
    "\n",
    "    # Save paragraphs to a text file\n",
    "    file_path = 'your location'\n",
    "    with open(file_path, 'w', encoding='utf-8') as f:\n",
    "        for para in texts:\n",
    "            f.write(para + \"\\n\\n\")\n",
    "\n",
    "    print(f\"Saved {len(texts)} paragraphs to {file_path}\")\n",
    "\n",
    "if __name__ == \"__main__\":\n",
    "    scrape_bangladesh_paragraphs()"
   ]
  },
  {
   "cell_type": "code",
   "execution_count": null,
   "id": "27ac4142",
   "metadata": {},
   "outputs": [],
   "source": []
  }
 ],
 "metadata": {
  "kernelspec": {
   "display_name": "rag_env",
   "language": "python",
   "name": "python3"
  },
  "language_info": {
   "codemirror_mode": {
    "name": "ipython",
    "version": 3
   },
   "file_extension": ".py",
   "mimetype": "text/x-python",
   "name": "python",
   "nbconvert_exporter": "python",
   "pygments_lexer": "ipython3",
   "version": "3.11.0"
  }
 },
 "nbformat": 4,
 "nbformat_minor": 5
}
