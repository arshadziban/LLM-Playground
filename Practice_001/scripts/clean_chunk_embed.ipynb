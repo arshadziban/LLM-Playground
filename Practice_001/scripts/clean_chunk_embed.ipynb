{
 "cells": [
  {
   "cell_type": "code",
   "execution_count": null,
   "id": "ffbec834",
   "metadata": {},
   "outputs": [
    {
     "name": "stdout",
     "output_type": "stream",
     "text": [
      "Total chunks created: 101\n"
     ]
    },
    {
     "name": "stderr",
     "output_type": "stream",
     "text": [
      "Batches:   0%|          | 0/4 [00:00<?, ?it/s]e:\\Important\\Skills\\LLM_Playground\\rag_env\\Lib\\site-packages\\torch\\nn\\modules\\module.py:1762: FutureWarning: `encoder_attention_mask` is deprecated and will be removed in version 4.55.0 for `BertSdpaSelfAttention.forward`.\n",
      "  return forward_call(*args, **kwargs)\n",
      "Batches: 100%|██████████| 4/4 [00:01<00:00,  2.38it/s]"
     ]
    },
    {
     "name": "stdout",
     "output_type": "stream",
     "text": [
      "Saved chunks and embeddings in E:\\Important\\Skills\\LLM_Playground\\data\\cleaned\\bangladesh.text\n"
     ]
    },
    {
     "name": "stderr",
     "output_type": "stream",
     "text": [
      "\n"
     ]
    }
   ],
   "source": [
    "import os\n",
    "import re\n",
    "from sentence_transformers import SentenceTransformer\n",
    "import numpy as np\n",
    "import pickle\n",
    "\n",
    "def clean_text(text):\n",
    "    text = re.sub(r'\\s+', ' ', text)\n",
    "    text = re.sub(r'[^\\w\\s.,;:?!-]', '', text)\n",
    "    return text.strip()\n",
    "\n",
    "def chunk_text(text, max_words=100):\n",
    "    words = text.split()\n",
    "    chunks = []\n",
    "    for i in range(0, len(words), max_words):\n",
    "        chunk = ' '.join(words[i:i+max_words])\n",
    "        chunks.append(chunk)\n",
    "    return chunks\n",
    "\n",
    "def main():\n",
    "    try:\n",
    "        # Use raw strings to avoid escape issues\n",
    "        raw_file = r'raw file path here'\n",
    "        cleaned_dir = r'clean file path here'\n",
    "        \n",
    "        # Create directory with full permissions (if it doesn't exist)\n",
    "        os.makedirs(cleaned_dir, mode=0o777, exist_ok=True)\n",
    "\n",
    "        # Read raw text\n",
    "        with open(raw_file, 'r', encoding='utf-8') as f:\n",
    "            raw_text = f.read()\n",
    "\n",
    "        cleaned_text = clean_text(raw_text)\n",
    "        chunks = chunk_text(cleaned_text, max_words=100)\n",
    "\n",
    "        print(f\"Total chunks created: {len(chunks)}\")\n",
    "\n",
    "        # Save cleaned text (optional)\n",
    "        cleaned_file_path = os.path.join(cleaned_dir, 'cleaned_bangladesh.txt')\n",
    "        with open(cleaned_file_path, 'w', encoding='utf-8') as f:\n",
    "            f.write(cleaned_text)\n",
    "\n",
    "        # Load embedding model\n",
    "        model = SentenceTransformer('all-MiniLM-L6-v2')\n",
    "        embeddings = model.encode(chunks, show_progress_bar=True)\n",
    "\n",
    "        # Save chunks and embeddings\n",
    "        with open(os.path.join(cleaned_dir, 'chunks.pkl'), 'wb') as f:\n",
    "            pickle.dump(chunks, f)\n",
    "\n",
    "        with open(os.path.join(cleaned_dir, 'embeddings.npy'), 'wb') as f:\n",
    "            np.save(f, embeddings)\n",
    "\n",
    "        print(f\"Saved chunks and embeddings in {cleaned_dir}\")\n",
    "    except PermissionError as e:\n",
    "        print(f\"Permission Error: Make sure you have write access to {cleaned_dir}\")\n",
    "        print(f\"Error details: {e}\")\n",
    "    except Exception as e:\n",
    "        print(f\"An error occurred: {e}\")\n",
    "\n",
    "if __name__ == \"__main__\":\n",
    "    main()"
   ]
  },
  {
   "cell_type": "code",
   "execution_count": 10,
   "id": "f4edb893",
   "metadata": {},
   "outputs": [],
   "source": [
    "import numpy as np\n",
    "\n",
    "# Load the embeddings\n",
    "embeddings = r'E:\\Important\\Skills\\LLM_Playground\\data\\cleaned\\bangladesh.text\\embeddings.npy'"
   ]
  },
  {
   "cell_type": "code",
   "execution_count": 12,
   "id": "d31d2119",
   "metadata": {},
   "outputs": [],
   "source": [
    "embeddings = np.load(embeddings)"
   ]
  },
  {
   "cell_type": "code",
   "execution_count": 13,
   "id": "f46a9c11",
   "metadata": {},
   "outputs": [
    {
     "data": {
      "text/plain": [
       "array([[ 0.15232578,  0.01054193, -0.00479   , ...,  0.0292078 ,\n",
       "        -0.00712487, -0.00822896],\n",
       "       [ 0.04164567,  0.05191945, -0.0036308 , ...,  0.03541483,\n",
       "         0.04761254,  0.00126079],\n",
       "       [-0.01351444,  0.08020821,  0.04896864, ..., -0.04154345,\n",
       "        -0.034859  , -0.03961822],\n",
       "       ...,\n",
       "       [ 0.00260654,  0.05764645, -0.02086941, ..., -0.04555659,\n",
       "         0.08057153, -0.02243216],\n",
       "       [ 0.02228773,  0.02549635, -0.0538968 , ...,  0.00209071,\n",
       "         0.01514115,  0.00904383],\n",
       "       [-0.01313959,  0.05006026, -0.0384109 , ..., -0.06587043,\n",
       "        -0.0759312 , -0.02768164]], shape=(101, 384), dtype=float32)"
      ]
     },
     "execution_count": 13,
     "metadata": {},
     "output_type": "execute_result"
    }
   ],
   "source": [
    "embeddings"
   ]
  },
  {
   "cell_type": "code",
   "execution_count": 14,
   "id": "bfd38937",
   "metadata": {},
   "outputs": [
    {
     "data": {
      "text/plain": [
       "(101, 384)"
      ]
     },
     "execution_count": 14,
     "metadata": {},
     "output_type": "execute_result"
    }
   ],
   "source": [
    "embeddings.shape"
   ]
  },
  {
   "cell_type": "code",
   "execution_count": 15,
   "id": "39afb86c",
   "metadata": {},
   "outputs": [
    {
     "data": {
      "text/plain": [
       "dtype('float32')"
      ]
     },
     "execution_count": 15,
     "metadata": {},
     "output_type": "execute_result"
    }
   ],
   "source": [
    "embeddings.dtype"
   ]
  },
  {
   "cell_type": "code",
   "execution_count": 16,
   "id": "be86cb3a",
   "metadata": {},
   "outputs": [
    {
     "name": "stdout",
     "output_type": "stream",
     "text": [
      "[ 0.15232578  0.01054193 -0.00479     0.06588046 -0.01625234  0.00116485\n",
      " -0.00753198  0.00768737 -0.06866915 -0.0674295 ]\n"
     ]
    }
   ],
   "source": [
    "print(embeddings[0][:10])  # First 10 values of the first chunk's embedding"
   ]
  },
  {
   "cell_type": "code",
   "execution_count": null,
   "id": "3bed5b46",
   "metadata": {},
   "outputs": [],
   "source": []
  }
 ],
 "metadata": {
  "kernelspec": {
   "display_name": "rag_env",
   "language": "python",
   "name": "python3"
  },
  "language_info": {
   "codemirror_mode": {
    "name": "ipython",
    "version": 3
   },
   "file_extension": ".py",
   "mimetype": "text/x-python",
   "name": "python",
   "nbconvert_exporter": "python",
   "pygments_lexer": "ipython3",
   "version": "3.11.0"
  }
 },
 "nbformat": 4,
 "nbformat_minor": 5
}
